{
 "cells": [
  {
   "cell_type": "markdown",
   "id": "e0cc3f76",
   "metadata": {},
   "source": [
    "### Subsets, supersets and power sets"
   ]
  },
  {
   "cell_type": "code",
   "execution_count": 1,
   "id": "38567876",
   "metadata": {},
   "outputs": [],
   "source": [
    "from sympy import FiniteSet"
   ]
  },
  {
   "cell_type": "code",
   "execution_count": 2,
   "id": "de153d8c",
   "metadata": {},
   "outputs": [
    {
     "data": {
      "text/plain": [
       "True"
      ]
     },
     "execution_count": 2,
     "metadata": {},
     "output_type": "execute_result"
    }
   ],
   "source": [
    "a = FiniteSet(1,2,3,4,5,6,7,8,9)\n",
    "c = FiniteSet(2,3,4,5,6)\n",
    "c.is_subset(a)"
   ]
  },
  {
   "cell_type": "code",
   "execution_count": 3,
   "id": "31f9c667",
   "metadata": {},
   "outputs": [
    {
     "data": {
      "text/plain": [
       "True"
      ]
     },
     "execution_count": 3,
     "metadata": {},
     "output_type": "execute_result"
    }
   ],
   "source": [
    "a.is_superset(c)"
   ]
  },
  {
   "cell_type": "code",
   "execution_count": 4,
   "id": "a472a94f",
   "metadata": {},
   "outputs": [
    {
     "data": {
      "text/plain": [
       "True"
      ]
     },
     "execution_count": 4,
     "metadata": {},
     "output_type": "execute_result"
    }
   ],
   "source": [
    "c.is_proper_subset(a)"
   ]
  },
  {
   "cell_type": "code",
   "execution_count": 5,
   "id": "95e42504",
   "metadata": {},
   "outputs": [
    {
     "data": {
      "text/plain": [
       "True"
      ]
     },
     "execution_count": 5,
     "metadata": {},
     "output_type": "execute_result"
    }
   ],
   "source": [
    "a.is_proper_superset(c)"
   ]
  },
  {
   "cell_type": "code",
   "execution_count": 6,
   "id": "634ce386-901b-411e-8b47-87bd39f3a82a",
   "metadata": {},
   "outputs": [
    {
     "name": "stdout",
     "output_type": "stream",
     "text": [
      "c superset of d:  True\n",
      "c proper superset of d:  False\n",
      "c subset of d:  True\n",
      "c proper subset of d:  False\n"
     ]
    }
   ],
   "source": [
    "d = FiniteSet(2,3,4,5,6)\n",
    "print(\"c superset of d: \",c.is_superset(d))\n",
    "print(\"c proper superset of d: \",c.is_proper_superset(d))\n",
    "print(\"c subset of d: \",c.is_subset(d))\n",
    "print(\"c proper subset of d: \",c.is_proper_subset(d))"
   ]
  },
  {
   "cell_type": "code",
   "execution_count": 7,
   "id": "8ac653ba",
   "metadata": {},
   "outputs": [
    {
     "data": {
      "text/latex": [
       "$\\displaystyle \\left\\{\\emptyset, \\left\\{1\\right\\}, \\left\\{2\\right\\}, \\left\\{1, 2\\right\\}\\right\\}$"
      ],
      "text/plain": [
       "FiniteSet(EmptySet, {1}, {2}, {1, 2})"
      ]
     },
     "execution_count": 7,
     "metadata": {},
     "output_type": "execute_result"
    }
   ],
   "source": [
    "FiniteSet(1,2).powerset()"
   ]
  },
  {
   "cell_type": "code",
   "execution_count": 8,
   "id": "a0451304",
   "metadata": {},
   "outputs": [
    {
     "data": {
      "text/latex": [
       "$\\displaystyle \\left\\{\\emptyset, \\left\\{1\\right\\}, \\left\\{2\\right\\}, \\left\\{3\\right\\}, \\left\\{1, 2\\right\\}, \\left\\{1, 3\\right\\}, \\left\\{2, 3\\right\\}, \\left\\{1, 2, 3\\right\\}\\right\\}$"
      ],
      "text/plain": [
       "FiniteSet(EmptySet, {1}, {2}, {3}, {1, 2}, {1, 3}, {2, 3}, {1, 2, 3})"
      ]
     },
     "execution_count": 8,
     "metadata": {},
     "output_type": "execute_result"
    }
   ],
   "source": [
    "FiniteSet(1,2,3).powerset()"
   ]
  },
  {
   "cell_type": "code",
   "execution_count": null,
   "id": "9df32f25",
   "metadata": {},
   "outputs": [],
   "source": []
  }
 ],
 "metadata": {
  "kernelspec": {
   "display_name": "Python [conda env:base] *",
   "language": "python",
   "name": "conda-base-py"
  },
  "language_info": {
   "codemirror_mode": {
    "name": "ipython",
    "version": 3
   },
   "file_extension": ".py",
   "mimetype": "text/x-python",
   "name": "python",
   "nbconvert_exporter": "python",
   "pygments_lexer": "ipython3",
   "version": "3.13.5"
  }
 },
 "nbformat": 4,
 "nbformat_minor": 5
}
