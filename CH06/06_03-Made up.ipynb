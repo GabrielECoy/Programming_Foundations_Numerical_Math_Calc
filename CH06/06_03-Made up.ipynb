{
 "cells": [
  {
   "cell_type": "markdown",
   "id": "e0cc3f76",
   "metadata": {},
   "source": [
    "### Subsets, supersets and power sets"
   ]
  },
  {
   "cell_type": "code",
   "execution_count": 1,
   "id": "38567876",
   "metadata": {},
   "outputs": [],
   "source": [
    "from sympy import FiniteSet"
   ]
  },
  {
   "cell_type": "code",
   "execution_count": 2,
   "id": "de153d8c",
   "metadata": {},
   "outputs": [
    {
     "name": "stdout",
     "output_type": "stream",
     "text": [
      "a:  {5, 6, 7, 8, 9}\n",
      "c:  {1, 2, 3, 4, 5, 6}\n"
     ]
    },
    {
     "data": {
      "text/plain": [
       "('Union', {1, 2, 3, 4, 5, 6, 7, 8, 9})"
      ]
     },
     "execution_count": 2,
     "metadata": {},
     "output_type": "execute_result"
    }
   ],
   "source": [
    "a = FiniteSet(5,6,7,8,9)\n",
    "c = FiniteSet(1,2,3,4,5,6)\n",
    "print(\"a: \",a)\n",
    "print(\"c: \",c)\n",
    "\"Union\", a.union(c)"
   ]
  },
  {
   "cell_type": "code",
   "execution_count": 3,
   "id": "31f9c667",
   "metadata": {},
   "outputs": [
    {
     "data": {
      "text/plain": [
       "('Intersect', {5, 6})"
      ]
     },
     "execution_count": 3,
     "metadata": {},
     "output_type": "execute_result"
    }
   ],
   "source": [
    "\"Intersect\", a.intersect(c)"
   ]
  },
  {
   "cell_type": "code",
   "execution_count": 4,
   "id": "9df32f25",
   "metadata": {},
   "outputs": [
    {
     "data": {
      "text/plain": [
       "('Cartesian', ProductSet({5, 6, 7, 8, 9}, {1, 2, 3, 4, 5, 6}))"
      ]
     },
     "execution_count": 4,
     "metadata": {},
     "output_type": "execute_result"
    }
   ],
   "source": [
    "cartesian = a*c\n",
    "\"Cartesian\", cartesian"
   ]
  },
  {
   "cell_type": "code",
   "execution_count": 5,
   "id": "a4b553dd-9557-4e23-baa6-e73640dbbf0c",
   "metadata": {},
   "outputs": [
    {
     "data": {
      "text/plain": [
       "('Elements in cartesian: ', 30)"
      ]
     },
     "execution_count": 5,
     "metadata": {},
     "output_type": "execute_result"
    }
   ],
   "source": [
    "\"Elements in cartesian: \", len(cartesian)"
   ]
  },
  {
   "cell_type": "code",
   "execution_count": 6,
   "id": "675c296c-12a0-470a-8a7f-20218767390b",
   "metadata": {},
   "outputs": [
    {
     "data": {
      "text/plain": [
       "('Exploded (list): ',\n",
       " [(5, 1),\n",
       "  (6, 1),\n",
       "  (5, 2),\n",
       "  (7, 1),\n",
       "  (6, 2),\n",
       "  (5, 3),\n",
       "  (8, 1),\n",
       "  (7, 2),\n",
       "  (6, 3),\n",
       "  (5, 4),\n",
       "  (9, 1),\n",
       "  (8, 2),\n",
       "  (7, 3),\n",
       "  (6, 4),\n",
       "  (5, 5),\n",
       "  (9, 2),\n",
       "  (8, 3),\n",
       "  (7, 4),\n",
       "  (6, 5),\n",
       "  (5, 6),\n",
       "  (9, 3),\n",
       "  (8, 4),\n",
       "  (7, 5),\n",
       "  (6, 6),\n",
       "  (9, 4),\n",
       "  (8, 5),\n",
       "  (7, 6),\n",
       "  (9, 5),\n",
       "  (8, 6),\n",
       "  (9, 6)])"
      ]
     },
     "execution_count": 6,
     "metadata": {},
     "output_type": "execute_result"
    }
   ],
   "source": [
    "\"Exploded (list): \", list(cartesian)"
   ]
  }
 ],
 "metadata": {
  "kernelspec": {
   "display_name": "Python [conda env:base] *",
   "language": "python",
   "name": "conda-base-py"
  },
  "language_info": {
   "codemirror_mode": {
    "name": "ipython",
    "version": 3
   },
   "file_extension": ".py",
   "mimetype": "text/x-python",
   "name": "python",
   "nbconvert_exporter": "python",
   "pygments_lexer": "ipython3",
   "version": "3.13.5"
  }
 },
 "nbformat": 4,
 "nbformat_minor": 5
}
