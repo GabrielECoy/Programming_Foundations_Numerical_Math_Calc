{
 "cells": [
  {
   "cell_type": "markdown",
   "id": "96f84508",
   "metadata": {},
   "source": [
    "### Dot product of vectors"
   ]
  },
  {
   "cell_type": "code",
   "execution_count": 1,
   "id": "afa68766",
   "metadata": {},
   "outputs": [],
   "source": [
    "import numpy as np"
   ]
  },
  {
   "cell_type": "code",
   "execution_count": 2,
   "id": "45cb1ca6",
   "metadata": {
    "editable": true,
    "slideshow": {
     "slide_type": ""
    },
    "tags": []
   },
   "outputs": [
    {
     "data": {
      "text/plain": [
       "np.int64(400)"
      ]
     },
     "execution_count": 2,
     "metadata": {},
     "output_type": "execute_result"
    }
   ],
   "source": [
    "a = np.array([10,15,20,25])\n",
    "b = np.array([2,4,6,8])\n",
    "np.dot(a,b)"
   ]
  },
  {
   "cell_type": "code",
   "execution_count": 3,
   "id": "a90b2c91",
   "metadata": {
    "editable": true,
    "slideshow": {
     "slide_type": ""
    },
    "tags": [
     "raises-exception"
    ]
   },
   "outputs": [
    {
     "ename": "ValueError",
     "evalue": "shapes (3,) and (4,) not aligned: 3 (dim 0) != 4 (dim 0)",
     "output_type": "error",
     "traceback": [
      "\u001b[1;31m---------------------------------------------------------------------------\u001b[0m",
      "\u001b[1;31mValueError\u001b[0m                                Traceback (most recent call last)",
      "Cell \u001b[1;32mIn[3], line 3\u001b[0m\n\u001b[0;32m      1\u001b[0m a2 \u001b[38;5;241m=\u001b[39m np\u001b[38;5;241m.\u001b[39marray([\u001b[38;5;241m10\u001b[39m,\u001b[38;5;241m15\u001b[39m,\u001b[38;5;241m20\u001b[39m])\n\u001b[0;32m      2\u001b[0m b2 \u001b[38;5;241m=\u001b[39m np\u001b[38;5;241m.\u001b[39marray([\u001b[38;5;241m2\u001b[39m,\u001b[38;5;241m4\u001b[39m,\u001b[38;5;241m6\u001b[39m,\u001b[38;5;241m8\u001b[39m])\n\u001b[1;32m----> 3\u001b[0m np\u001b[38;5;241m.\u001b[39mdot(a2,b2)\n",
      "\u001b[1;31mValueError\u001b[0m: shapes (3,) and (4,) not aligned: 3 (dim 0) != 4 (dim 0)"
     ]
    }
   ],
   "source": [
    "a2 = np.array([10,15,20])\n",
    "b2 = np.array([2,4,6,8])\n",
    "np.dot(a2,b2)"
   ]
  },
  {
   "cell_type": "code",
   "execution_count": 4,
   "id": "b4f67a5a-04cb-4115-a704-bf4ac45b291d",
   "metadata": {
    "editable": true,
    "slideshow": {
     "slide_type": ""
    },
    "tags": []
   },
   "outputs": [
    {
     "data": {
      "text/plain": [
       "np.float64(36.742346141747674)"
      ]
     },
     "execution_count": 4,
     "metadata": {},
     "output_type": "execute_result"
    }
   ],
   "source": [
    "np.linalg.norm(a)"
   ]
  },
  {
   "cell_type": "code",
   "execution_count": 5,
   "id": "a31e45b8-2438-4bc7-8e22-6f0611d83279",
   "metadata": {
    "editable": true,
    "slideshow": {
     "slide_type": ""
    },
    "tags": []
   },
   "outputs": [
    {
     "name": "stdout",
     "output_type": "stream",
     "text": [
      "36.742346141747674\n",
      "36.742346141747674\n"
     ]
    }
   ],
   "source": [
    "print(np.linalg.norm(a))\n",
    "print(np.sqrt(np.dot(a,a))) # np.sqrt(np.dot(a)) does not work"
   ]
  },
  {
   "cell_type": "code",
   "execution_count": 6,
   "id": "525b4d41-125d-4682-909e-dde85da5aec9",
   "metadata": {
    "editable": true,
    "slideshow": {
     "slide_type": ""
    },
    "tags": []
   },
   "outputs": [
    {
     "data": {
      "text/plain": [
       "array([ 73.02967433, 146.05934867, 219.089023  , 292.11869734])"
      ]
     },
     "execution_count": 6,
     "metadata": {},
     "output_type": "execute_result"
    }
   ],
   "source": [
    "\"\"\"This line of code computes the vector projection of vector a onto vector b using NumPy. Here's a breakdown:\n",
    "np.dot(a, b) computes the dot product of vectors a and b.\n",
    "b.dot(b) computes the dot product of b with itself, which is equal to the squared magnitude of b.\n",
    "np.sqrt(b.dot(b)) computes the magnitude (or norm) of vector b.\"\"\"\n",
    "projection_of_a_on_b = (np.dot(a,b)/np.sqrt(b.dot(b)))*b\n",
    "projection_of_a_on_b"
   ]
  },
  {
   "cell_type": "markdown",
   "id": "b328cced-09c0-42f4-8922-408a3b1280ce",
   "metadata": {
    "editable": true,
    "slideshow": {
     "slide_type": ""
    },
    "tags": []
   },
   "source": [
    "Linear combinations, span, and basis vectors | Chapter 2, Essence of linear algebra:\n",
    "https://www.youtube.com/watch?v=k7RM-ot2NWY"
   ]
  }
 ],
 "metadata": {
  "kernelspec": {
   "display_name": "Python [conda env:base] *",
   "language": "python",
   "name": "conda-base-py"
  },
  "language_info": {
   "codemirror_mode": {
    "name": "ipython",
    "version": 3
   },
   "file_extension": ".py",
   "mimetype": "text/x-python",
   "name": "python",
   "nbconvert_exporter": "python",
   "pygments_lexer": "ipython3",
   "version": "3.13.5"
  }
 },
 "nbformat": 4,
 "nbformat_minor": 5
}
