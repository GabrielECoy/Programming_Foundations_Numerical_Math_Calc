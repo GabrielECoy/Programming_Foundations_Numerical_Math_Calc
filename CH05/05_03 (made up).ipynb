{
 "cells": [
  {
   "cell_type": "markdown",
   "id": "b6da361f",
   "metadata": {},
   "source": [
    "### Calculating the median"
   ]
  },
  {
   "cell_type": "code",
   "execution_count": 1,
   "id": "9adc37ac-07b0-4338-a9da-73758d6e0aaa",
   "metadata": {},
   "outputs": [],
   "source": [
    "def average_calculation(numbers):\n",
    "    sum_of_numbers=sum(numbers)\n",
    "    count_of_numbers=len(numbers)\n",
    "    mean=sum_of_numbers/count_of_numbers\n",
    "    return mean"
   ]
  },
  {
   "cell_type": "code",
   "execution_count": 2,
   "id": "31512d73",
   "metadata": {},
   "outputs": [],
   "source": [
    "def median_calculation(numbers):\n",
    "    numbers.sort()\n",
    "    length=len(numbers)\n",
    "    mid=(length)//2\n",
    "    if(length%2==0):\n",
    "        return(numbers[mid-1]+numbers[mid])/2\n",
    "    else:\n",
    "        return numbers[mid]"
   ]
  },
  {
   "cell_type": "code",
   "execution_count": 3,
   "id": "396367f3-12eb-4b9f-8166-e66e2c591e03",
   "metadata": {},
   "outputs": [],
   "source": [
    "from collections import Counter"
   ]
  },
  {
   "cell_type": "code",
   "execution_count": 4,
   "id": "7c348a5d-75e2-4a0d-956e-ea255b030d6f",
   "metadata": {},
   "outputs": [],
   "source": [
    "def mode_calculation(numbers):\n",
    "    table=Counter(numbers)\n",
    "    mode=table.most_common()[0][0]\n",
    "    return mode"
   ]
  },
  {
   "cell_type": "code",
   "execution_count": 5,
   "id": "45073088-0f40-4e59-aab8-2bb47a7f84ba",
   "metadata": {},
   "outputs": [],
   "source": [
    "def range_calculation(numbers):\n",
    "    top=max(numbers)\n",
    "    low=min(numbers)\n",
    "    range_=top-low\n",
    "    return range_"
   ]
  },
  {
   "cell_type": "code",
   "execution_count": 6,
   "id": "a45bc182-2398-4a05-a3fe-7ddec6fa46b3",
   "metadata": {},
   "outputs": [],
   "source": [
    "def variance_calculation(numbers):\n",
    "    mean=average_calculation(numbers)\n",
    "    count_of_numbers=len(numbers)\n",
    "    sum_of_square_of_distances_from_mean=0\n",
    "    for number in numbers:\n",
    "        sum_of_square_of_distances_from_mean=+(number-mean) ** 2\n",
    "    variance=sum_of_square_of_distances_from_mean/count_of_numbers\n",
    "    return variance"
   ]
  },
  {
   "cell_type": "code",
   "execution_count": 7,
   "id": "4d85c2fc-1aa7-43d5-931e-10187b9bad1f",
   "metadata": {},
   "outputs": [],
   "source": [
    "import math"
   ]
  },
  {
   "cell_type": "code",
   "execution_count": 8,
   "id": "3faca723-33fb-4101-9d78-248d0df87c5b",
   "metadata": {},
   "outputs": [],
   "source": [
    "def standard_deviation_claculation(numbers):\n",
    "    variance=variance_calculation(numbers)\n",
    "    standard_deviation=math.sqrt(variance)\n",
    "    return standard_deviation"
   ]
  },
  {
   "cell_type": "code",
   "execution_count": 9,
   "id": "4fc3e96f",
   "metadata": {},
   "outputs": [],
   "source": [
    "salaries=[130000,130000,130000,250000,80000,80000,80000,80000]"
   ]
  },
  {
   "cell_type": "code",
   "execution_count": 10,
   "id": "d8b630bc-afe9-41fb-af83-0745a85948ba",
   "metadata": {},
   "outputs": [
    {
     "data": {
      "text/plain": [
       "120000.0"
      ]
     },
     "execution_count": 10,
     "metadata": {},
     "output_type": "execute_result"
    }
   ],
   "source": [
    "average_calculation(salaries)"
   ]
  },
  {
   "cell_type": "code",
   "execution_count": 11,
   "id": "888d3ab1",
   "metadata": {},
   "outputs": [
    {
     "data": {
      "text/plain": [
       "105000.0"
      ]
     },
     "execution_count": 11,
     "metadata": {},
     "output_type": "execute_result"
    }
   ],
   "source": [
    "median_calculation(salaries)\n"
   ]
  },
  {
   "cell_type": "code",
   "execution_count": 12,
   "id": "8c9639a1",
   "metadata": {},
   "outputs": [
    {
     "data": {
      "text/plain": [
       "80000"
      ]
     },
     "execution_count": 12,
     "metadata": {},
     "output_type": "execute_result"
    }
   ],
   "source": [
    "mode_calculation(salaries)"
   ]
  },
  {
   "cell_type": "code",
   "execution_count": 13,
   "id": "0235a964-3543-4fb7-8969-121b82cce3cb",
   "metadata": {},
   "outputs": [
    {
     "data": {
      "text/plain": [
       "170000"
      ]
     },
     "execution_count": 13,
     "metadata": {},
     "output_type": "execute_result"
    }
   ],
   "source": [
    "range_calculation(salaries)"
   ]
  },
  {
   "cell_type": "code",
   "execution_count": 14,
   "id": "abc55133-8eaf-4b69-bfad-6ae3e78dbbab",
   "metadata": {},
   "outputs": [
    {
     "data": {
      "text/plain": [
       "2112500000.0"
      ]
     },
     "execution_count": 14,
     "metadata": {},
     "output_type": "execute_result"
    }
   ],
   "source": [
    "variance_calculation(salaries)"
   ]
  },
  {
   "cell_type": "code",
   "execution_count": 15,
   "id": "acfc0666-e459-4c9b-a5e8-9c50d2b9040f",
   "metadata": {},
   "outputs": [
    {
     "data": {
      "text/plain": [
       "45961.94077712559"
      ]
     },
     "execution_count": 15,
     "metadata": {},
     "output_type": "execute_result"
    }
   ],
   "source": [
    "standard_deviation_claculation(salaries)"
   ]
  },
  {
   "cell_type": "raw",
   "id": "35753604-000a-4daa-a5ba-65ba8516e5d1",
   "metadata": {},
   "source": [
    "from: https://www.calculatorsoup.com/calculators/statistics/mean-median-mode.php\n",
    "130000,130000,130000,250000,80000,80000,80000,80000\n",
    "Mean 120000\n",
    "Median 105000\n",
    "Mode 80000\n",
    "Range 170000\n",
    "Minimum\t80000\n",
    "Maximum\t250000\n",
    "Count n\t8\n",
    "Sum\t960000\n",
    "Quartiles\tQuartiles:\n",
    "Q1 --> 80000\n",
    "Q2 --> 105000\n",
    "Q3 --> 130000\n",
    "Interquartile\n",
    "Range IQR\t50000\n",
    "Outliers\t250000"
   ]
  },
  {
   "cell_type": "code",
   "execution_count": null,
   "id": "171f2166-a339-4e07-afb8-f4e448766f33",
   "metadata": {},
   "outputs": [],
   "source": []
  },
  {
   "cell_type": "code",
   "execution_count": null,
   "id": "277bb97b-4834-494c-9413-2ae9917934fc",
   "metadata": {},
   "outputs": [],
   "source": []
  }
 ],
 "metadata": {
  "kernelspec": {
   "display_name": "Python [conda env:base] *",
   "language": "python",
   "name": "conda-base-py"
  },
  "language_info": {
   "codemirror_mode": {
    "name": "ipython",
    "version": 3
   },
   "file_extension": ".py",
   "mimetype": "text/x-python",
   "name": "python",
   "nbconvert_exporter": "python",
   "pygments_lexer": "ipython3",
   "version": "3.13.5"
  }
 },
 "nbformat": 4,
 "nbformat_minor": 5
}
