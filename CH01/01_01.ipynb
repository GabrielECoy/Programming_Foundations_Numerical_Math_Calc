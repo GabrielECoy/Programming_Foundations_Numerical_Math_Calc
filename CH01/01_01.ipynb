{
 "cells": [
  {
   "cell_type": "markdown",
   "id": "dbad180f",
   "metadata": {},
   "source": [
    "### Mathematical operators and order of operations¶"
   ]
  },
  {
   "cell_type": "code",
   "execution_count": 1,
   "id": "e8ab94dd",
   "metadata": {},
   "outputs": [
    {
     "data": {
      "text/plain": [
       "15"
      ]
     },
     "execution_count": 1,
     "metadata": {},
     "output_type": "execute_result"
    }
   ],
   "source": [
    "8+7"
   ]
  },
  {
   "cell_type": "code",
   "execution_count": 2,
   "id": "48d6c493",
   "metadata": {},
   "outputs": [
    {
     "data": {
      "text/plain": [
       "38"
      ]
     },
     "execution_count": 2,
     "metadata": {},
     "output_type": "execute_result"
    }
   ],
   "source": [
    "135-97"
   ]
  },
  {
   "cell_type": "code",
   "execution_count": 3,
   "id": "93b5a115",
   "metadata": {},
   "outputs": [
    {
     "data": {
      "text/plain": [
       "48"
      ]
     },
     "execution_count": 3,
     "metadata": {},
     "output_type": "execute_result"
    }
   ],
   "source": [
    "6*8"
   ]
  },
  {
   "cell_type": "code",
   "execution_count": 4,
   "id": "967832be",
   "metadata": {},
   "outputs": [
    {
     "data": {
      "text/plain": [
       "1.6"
      ]
     },
     "execution_count": 4,
     "metadata": {},
     "output_type": "execute_result"
    }
   ],
   "source": [
    "24/15"
   ]
  },
  {
   "cell_type": "code",
   "execution_count": 5,
   "id": "e7716ad4",
   "metadata": {},
   "outputs": [
    {
     "data": {
      "text/plain": [
       "9"
      ]
     },
     "execution_count": 5,
     "metadata": {},
     "output_type": "execute_result"
    }
   ],
   "source": [
    "24%15"
   ]
  },
  {
   "cell_type": "code",
   "execution_count": 6,
   "id": "b1920537",
   "metadata": {},
   "outputs": [
    {
     "data": {
      "text/plain": [
       "27"
      ]
     },
     "execution_count": 6,
     "metadata": {},
     "output_type": "execute_result"
    }
   ],
   "source": [
    "3**3"
   ]
  },
  {
   "cell_type": "code",
   "execution_count": 10,
   "id": "b8cb3cdd",
   "metadata": {},
   "outputs": [
    {
     "data": {
      "text/plain": [
       "28"
      ]
     },
     "execution_count": 10,
     "metadata": {},
     "output_type": "execute_result"
    }
   ],
   "source": [
    "7+7*3"
   ]
  },
  {
   "cell_type": "code",
   "execution_count": 11,
   "id": "db97bdae",
   "metadata": {},
   "outputs": [
    {
     "data": {
      "text/plain": [
       "42"
      ]
     },
     "execution_count": 11,
     "metadata": {},
     "output_type": "execute_result"
    }
   ],
   "source": [
    "(7+7)*3"
   ]
  },
  {
   "cell_type": "code",
   "execution_count": 12,
   "id": "f3c9e3a4",
   "metadata": {},
   "outputs": [
    {
     "data": {
      "text/plain": [
       "34"
      ]
     },
     "execution_count": 12,
     "metadata": {},
     "output_type": "execute_result"
    }
   ],
   "source": [
    "30-2**3+3*4"
   ]
  },
  {
   "cell_type": "raw",
   "id": "a35b5c5b-0988-458c-924d-c8a6a688e0df",
   "metadata": {},
   "source": [
    "Order of Operations (PEMDAS/BODMAS in Python)\n",
    "Python follows the standard mathematical order of operations, often remembered by the acronym PEMDAS (Parentheses, Exponents, Multiplication/Division, Addition/Subtraction) or BODMAS (Brackets, Orders, Division/Multiplication, Addition/Subtraction).\n",
    "\n",
    "Here is the precise precedence table, from highest to lowest:\n",
    "Precedence\tOperator(s)\tDescription\tAssociativity\n",
    "Highest\t()\tParentheses (grouping)\tLeft-to-right\n",
    "**\tExponentiation\tRight-to-left\n",
    "+x, -x, ~x\tUnary plus, Unary minus, Bitwise NOT\tLeft-to-right\n",
    "*, @, /, //, %\tMultiplication, Matrix Mult, Division, Floor Div, Modulo\tLeft-to-right\n",
    "+, -\tAddition, Subtraction\tLeft-to-right\n",
    "<<, >>\tBitwise shifts\tLeft-to-right\n",
    "&\tBitwise AND\tLeft-to-right\n",
    "^\tBitwise XOR\tLeft-to-right\n",
    "|\tBitwise OR\tLeft-to-right\n",
    "Lowest\t==, !=, >, >=, <, <=, is, is not, in, not in\tComparisons, Identity, Membership\n",
    "\n",
    "PEMDAS and BODMAS are the same thing. They are two different acronyms for the exact same order of operations.\n",
    "The Acronyms\n",
    "Acronym\tLetters Stand For\tRegion Most Commonly Used\n",
    "PEMDAS\tParentheses, Exponents, Multiplication, Division, Addition, Subtraction\tUnited States\n",
    "BODMAS\tBrackets, Orders, Division, Multiplication, Addition, Subtraction\tUK, Commonwealth countries\n",
    "BIDMAS\tBrackets, Indices, Division, Multiplication, Addition, Subtraction\tAlternative to BODMAS\n",
    "\n",
    "The Critical Clarification: MD vs. DM\n",
    "This is the part that causes all the confusion. The acronyms seem to contradict each other, but they don't in practice.\n",
    "\n",
    "The Rule: Multiplication and Division have equal precedence. Addition and Subtraction have equal precedence.\n",
    "When operations have the same precedence, you evaluate them from left to right (left-associative).\n",
    "PEMDAS might seem to say \"do Multiplication, then Division,\" but the correct interpretation is:\n",
    "P → E → (M and D) → (A and S)\n",
    "BODMAS might seem to say \"do Division, then Multiplication,\" but the correct interpretation is:\n",
    "B → O → (D and M) → (A and S)\n",
    "Both acronyms result in the exact same calculation."
   ]
  },
  {
   "cell_type": "code",
   "execution_count": null,
   "id": "982adbba-04bf-4490-836e-ed074cd817dc",
   "metadata": {},
   "outputs": [],
   "source": []
  },
  {
   "cell_type": "code",
   "execution_count": null,
   "id": "939f4607-184c-4adf-9b9f-986895db0745",
   "metadata": {},
   "outputs": [],
   "source": []
  }
 ],
 "metadata": {
  "kernelspec": {
   "display_name": "Python [conda env:base] *",
   "language": "python",
   "name": "conda-base-py"
  },
  "language_info": {
   "codemirror_mode": {
    "name": "ipython",
    "version": 3
   },
   "file_extension": ".py",
   "mimetype": "text/x-python",
   "name": "python",
   "nbconvert_exporter": "python",
   "pygments_lexer": "ipython3",
   "version": "3.13.5"
  }
 },
 "nbformat": 4,
 "nbformat_minor": 5
}
