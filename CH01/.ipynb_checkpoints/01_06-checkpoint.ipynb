{
 "cells": [
  {
   "cell_type": "markdown",
   "id": "72548499",
   "metadata": {},
   "source": [
    "### Solution:  converting units of measurement"
   ]
  },
  {
   "cell_type": "code",
   "execution_count": null,
   "id": "34cb1975",
   "metadata": {},
   "outputs": [
    {
     "name": "stdout",
     "output_type": "stream",
     "text": [
      "\n",
      "Menu\n",
      "1. Kilometers to Miles\n",
      "2. Miles to Kilometers\n",
      "0. Exit\n",
      "What would you like to convert?1\n",
      "Enter distance in kilometers: 100\n",
      "Distance in miles: 62.15040397762586\n",
      "\n",
      "Menu\n",
      "1. Kilometers to Miles\n",
      "2. Miles to Kilometers\n",
      "0. Exit\n"
     ]
    }
   ],
   "source": [
    "def select_conversion():\n",
    "    print('\\nMenu')\n",
    "    print('1. Kilometers to Miles')\n",
    "    print('2. Miles to Kilometers')\n",
    "    print('0. Exit')\n",
    "    \n",
    "def kilometers_to_miles():\n",
    "    km = float(input('Enter distance in kilometers: '))\n",
    "    miles = km / 1.609\n",
    "    \n",
    "    print ('Distance in miles: {0}'.format(miles))\n",
    "    \n",
    "def miles_to_kilometers():\n",
    "    miles = float(input('Enter distance in miles:'))\n",
    "    km = miles * 1.609\n",
    "    \n",
    "    print ('Distance in kilometers: {0}'.format(km))\n",
    "   \n",
    "option='1'\n",
    "while option!='0':\n",
    "    select_conversion()\n",
    "    option = input ('What would you like to convert?')\n",
    "    if option=='1':\n",
    "        kilometers_to_miles()\n",
    "    if option=='2':\n",
    "        miles_to_kilometers()"
   ]
  },
  {
   "cell_type": "code",
   "execution_count": 1,
   "id": "95b9b17e-0dea-48e9-bc9e-c27f0bbbd13b",
   "metadata": {},
   "outputs": [
    {
     "name": "stdout",
     "output_type": "stream",
     "text": [
      "\n",
      "Menu:\n",
      "1. Kilometers to Miles\n",
      "2. Miles to Kilometers\n",
      "0. Exit\n"
     ]
    },
    {
     "name": "stdin",
     "output_type": "stream",
     "text": [
      "What would you like to convert?  4\n"
     ]
    },
    {
     "name": "stdout",
     "output_type": "stream",
     "text": [
      "Invalid option. Please choose a valid option.\n",
      "\n",
      "Menu:\n",
      "1. Kilometers to Miles\n",
      "2. Miles to Kilometers\n",
      "0. Exit\n"
     ]
    },
    {
     "name": "stdin",
     "output_type": "stream",
     "text": [
      "What would you like to convert?  1\n",
      "Enter distance in kilometers:  1\n"
     ]
    },
    {
     "name": "stdout",
     "output_type": "stream",
     "text": [
      "Distance in miles: 0.62\n",
      "\n",
      "Menu:\n",
      "1. Kilometers to Miles\n",
      "2. Miles to Kilometers\n",
      "0. Exit\n"
     ]
    },
    {
     "name": "stdin",
     "output_type": "stream",
     "text": [
      "What would you like to convert?  0\n"
     ]
    },
    {
     "name": "stdout",
     "output_type": "stream",
     "text": [
      "Exiting...\n"
     ]
    }
   ],
   "source": [
    "# Define a constant for the conversion factor\n",
    "KM_MILES_CONVERSION_FACTOR = 1.60934\n",
    "\n",
    "def display_menu():\n",
    "    \"\"\"Display the conversion menu\"\"\"\n",
    "    print(\"\\nMenu:\")\n",
    "    print(\"1. Kilometers to Miles\")\n",
    "    print(\"2. Miles to Kilometers\")\n",
    "    print(\"0. Exit\")\n",
    "\n",
    "def kilometers_to_miles():\n",
    "    \"\"\"Convert kilometers to miles\"\"\"\n",
    "    km = float(input(\"Enter distance in kilometers: \"))\n",
    "    miles = km / KM_MILES_CONVERSION_FACTOR\n",
    "    print(f\"Distance in miles: {miles:.2f}\")\n",
    "\n",
    "def miles_to_kilometers():\n",
    "    \"\"\"Convert miles to kilometers\"\"\"\n",
    "    miles = float(input(\"Enter distance in miles: \"))\n",
    "    km = miles * KM_MILES_CONVERSION_FACTOR\n",
    "    print(f\"Distance in kilometers: {km:.2f}\")\n",
    "\n",
    "def main():\n",
    "    while True:\n",
    "        display_menu()\n",
    "        option = input(\"What would you like to convert? \")\n",
    "        if option == \"1\":\n",
    "            kilometers_to_miles()\n",
    "        elif option == \"2\":\n",
    "            miles_to_kilometers()\n",
    "        elif option == \"0\":\n",
    "            print(\"Exiting...\")\n",
    "            break\n",
    "        else:\n",
    "            print(\"Invalid option. Please choose a valid option.\")\n",
    "\n",
    "if __name__ == \"__main__\":\n",
    "    main()"
   ]
  },
  {
   "cell_type": "code",
   "execution_count": null,
   "id": "f82a418f",
   "metadata": {},
   "outputs": [],
   "source": []
  }
 ],
 "metadata": {
  "kernelspec": {
   "display_name": "Python [conda env:base] *",
   "language": "python",
   "name": "conda-base-py"
  },
  "language_info": {
   "codemirror_mode": {
    "name": "ipython",
    "version": 3
   },
   "file_extension": ".py",
   "mimetype": "text/x-python",
   "name": "python",
   "nbconvert_exporter": "python",
   "pygments_lexer": "ipython3",
   "version": "3.13.5"
  }
 },
 "nbformat": 4,
 "nbformat_minor": 5
}
