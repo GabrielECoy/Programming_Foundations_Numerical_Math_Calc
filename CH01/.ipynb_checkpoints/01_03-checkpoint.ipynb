{
 "cells": [
  {
   "cell_type": "markdown",
   "id": "3582d0ba",
   "metadata": {},
   "source": [
    "### Using built-in math functions"
   ]
  },
  {
   "cell_type": "code",
   "execution_count": 1,
   "id": "d05e53f6",
   "metadata": {},
   "outputs": [],
   "source": [
    "import math"
   ]
  },
  {
   "cell_type": "code",
   "execution_count": 2,
   "id": "08343f5e",
   "metadata": {},
   "outputs": [
    {
     "data": {
      "text/plain": [
       "4.0"
      ]
     },
     "execution_count": 2,
     "metadata": {},
     "output_type": "execute_result"
    }
   ],
   "source": [
    "math.sqrt(16)"
   ]
  },
  {
   "cell_type": "code",
   "execution_count": 3,
   "id": "fc7d8dad",
   "metadata": {
    "editable": true,
    "slideshow": {
     "slide_type": ""
    },
    "tags": [
     "raises-exception"
    ]
   },
   "outputs": [
    {
     "ename": "ValueError",
     "evalue": "math domain error",
     "output_type": "error",
     "traceback": [
      "\u001b[1;31m---------------------------------------------------------------------------\u001b[0m",
      "\u001b[1;31mValueError\u001b[0m                                Traceback (most recent call last)",
      "Cell \u001b[1;32mIn[3], line 1\u001b[0m\n\u001b[1;32m----> 1\u001b[0m math\u001b[38;5;241m.\u001b[39msqrt(\u001b[38;5;241m-\u001b[39m\u001b[38;5;241m9\u001b[39m)\n",
      "\u001b[1;31mValueError\u001b[0m: math domain error"
     ]
    }
   ],
   "source": [
    "math.sqrt(-9)"
   ]
  },
  {
   "cell_type": "code",
   "execution_count": 4,
   "id": "b585604a",
   "metadata": {},
   "outputs": [
    {
     "data": {
      "text/plain": [
       "4.605170185988092"
      ]
     },
     "execution_count": 4,
     "metadata": {},
     "output_type": "execute_result"
    }
   ],
   "source": [
    "math.log(100)"
   ]
  },
  {
   "cell_type": "code",
   "execution_count": 5,
   "id": "563c1ce3",
   "metadata": {},
   "outputs": [
    {
     "data": {
      "text/plain": [
       "2.0"
      ]
     },
     "execution_count": 5,
     "metadata": {},
     "output_type": "execute_result"
    }
   ],
   "source": [
    "math.log(100,10)"
   ]
  },
  {
   "cell_type": "code",
   "execution_count": 6,
   "id": "d24e1174",
   "metadata": {},
   "outputs": [],
   "source": [
    "alpha=math.pi/3"
   ]
  },
  {
   "cell_type": "code",
   "execution_count": 7,
   "id": "f3aefb82",
   "metadata": {},
   "outputs": [
    {
     "name": "stdout",
     "output_type": "stream",
     "text": [
      "1.0471975511965976\n"
     ]
    }
   ],
   "source": [
    "print(alpha)"
   ]
  },
  {
   "cell_type": "code",
   "execution_count": 8,
   "id": "d3aca64e",
   "metadata": {},
   "outputs": [
    {
     "data": {
      "text/plain": [
       "0.8660254037844386"
      ]
     },
     "execution_count": 8,
     "metadata": {},
     "output_type": "execute_result"
    }
   ],
   "source": [
    "math.sin(alpha)"
   ]
  },
  {
   "cell_type": "code",
   "execution_count": 9,
   "id": "e68de20c",
   "metadata": {},
   "outputs": [
    {
     "data": {
      "text/plain": [
       "0.5000000000000001"
      ]
     },
     "execution_count": 9,
     "metadata": {},
     "output_type": "execute_result"
    }
   ],
   "source": [
    "math.cos(alpha)"
   ]
  },
  {
   "cell_type": "code",
   "execution_count": 10,
   "id": "f50c5d15",
   "metadata": {},
   "outputs": [
    {
     "data": {
      "text/plain": [
       "1.7320508075688767"
      ]
     },
     "execution_count": 10,
     "metadata": {},
     "output_type": "execute_result"
    }
   ],
   "source": [
    "math.tan(alpha)"
   ]
  },
  {
   "cell_type": "code",
   "execution_count": 11,
   "id": "533b53ef",
   "metadata": {},
   "outputs": [
    {
     "data": {
      "text/plain": [
       "720.0"
      ]
     },
     "execution_count": 11,
     "metadata": {},
     "output_type": "execute_result"
    }
   ],
   "source": [
    "math.gamma(7)"
   ]
  },
  {
   "cell_type": "code",
   "execution_count": 12,
   "id": "22fb62c4",
   "metadata": {},
   "outputs": [
    {
     "data": {
      "text/plain": [
       "0.9999999845827421"
      ]
     },
     "execution_count": 12,
     "metadata": {},
     "output_type": "execute_result"
    }
   ],
   "source": [
    "math.erf(4)"
   ]
  },
  {
   "cell_type": "code",
   "execution_count": 13,
   "id": "a4d6f12e",
   "metadata": {
    "editable": true,
    "slideshow": {
     "slide_type": ""
    },
    "tags": []
   },
   "outputs": [],
   "source": [
    "import numpy as np"
   ]
  },
  {
   "cell_type": "markdown",
   "id": "9703c0bf-f2da-49ed-a0c3-5ddd4dc98ae2",
   "metadata": {
    "editable": true,
    "raw_mimetype": "",
    "slideshow": {
     "slide_type": ""
    },
    "tags": []
   },
   "source": [
    "https://stackoverflow.com/questions/56402480/how-to-automatically-execute-next-cell-even-if-an-error-occurs-in-the-current-ce\n",
    "\n",
    "There's no need to install any extension, at least not since notebook 5.1.\n",
    "After activating tags with View > Cell Toolbar > Tags, you can add raises-exception.\n",
    "Jupyter will not stop the execution after this cell, even if an exception is raised. It will also keep on running if the tag is set and no exception is raised.\n",
    "\n",
    "The top answer from Eric was great, but I couldn't initially locate that View > Cell Toolbar in Jupyter Labs. So for anyone looking for that feature in Jupyter Labs, I found it on the right side bar, in the \"Property Inspector\" icon, under \"COMMON TOOLS\". I added the \"raises-exception\" Cell Tag in there, and it worked like a charm. I added a link to a screenshot of that below. Thanks Eric!"
   ]
  },
  {
   "cell_type": "code",
   "execution_count": null,
   "id": "80de8657-8a6e-4156-9e24-c995fa19343e",
   "metadata": {
    "editable": true,
    "slideshow": {
     "slide_type": ""
    },
    "tags": []
   },
   "outputs": [],
   "source": []
  },
  {
   "cell_type": "code",
   "execution_count": null,
   "id": "d928ff66-b242-46ae-ba71-f5b39643dce0",
   "metadata": {
    "editable": true,
    "slideshow": {
     "slide_type": ""
    },
    "tags": []
   },
   "outputs": [],
   "source": []
  }
 ],
 "metadata": {
  "kernelspec": {
   "display_name": "Python [conda env:base] *",
   "language": "python",
   "name": "conda-base-py"
  },
  "language_info": {
   "codemirror_mode": {
    "name": "ipython",
    "version": 3
   },
   "file_extension": ".py",
   "mimetype": "text/x-python",
   "name": "python",
   "nbconvert_exporter": "python",
   "pygments_lexer": "ipython3",
   "version": "3.13.5"
  }
 },
 "nbformat": 4,
 "nbformat_minor": 5
}
