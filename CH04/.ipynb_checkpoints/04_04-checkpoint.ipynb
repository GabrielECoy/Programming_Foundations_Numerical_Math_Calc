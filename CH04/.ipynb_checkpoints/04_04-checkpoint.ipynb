{
 "cells": [
  {
   "cell_type": "markdown",
   "id": "80c585b2-f6e7-4cb1-a911-db2faab7d1e9",
   "metadata": {},
   "source": [
    "### Linear transformations and matrices - Matrix multiplication as composition\n",
    "https://www.youtube.com/watch?v=kYB8IZa5AuE (Linear transformations and matrices | Chapter 3, Essence of linear algebra)\n",
    "\n",
    "https://www.youtube.com/watch?v=XkY2DOUCWMU (Matrix multiplication as composition | Chapter 4, Essence of linear algebra\n",
    "\n",
    "https://www.youtube.com/watch?v=rHLEWRxRGiM (Three-dimensional linear transformations | Chapter 5, Essence of linear algebra)\n"
   ]
  },
  {
   "cell_type": "markdown",
   "id": "971c6db1",
   "metadata": {},
   "source": [
    "### Transposing matrices"
   ]
  },
  {
   "cell_type": "code",
   "execution_count": 1,
   "id": "65f12902",
   "metadata": {},
   "outputs": [],
   "source": [
    "import numpy as np"
   ]
  },
  {
   "cell_type": "code",
   "execution_count": 2,
   "id": "dbc01c06",
   "metadata": {},
   "outputs": [],
   "source": [
    "def transpose_fun(a):\n",
    "    transposed_matrix = []\n",
    "    m = len(a)\n",
    "    n = len(a[0])\n",
    "    for i in range(n):\n",
    "        transposed_matrix.append([])\n",
    "        for j in range(m):\n",
    "            transposed_matrix[i].append(a[j][i])\n",
    "    return transposed_matrix"
   ]
  },
  {
   "cell_type": "code",
   "execution_count": 3,
   "id": "5bab3eb7",
   "metadata": {},
   "outputs": [
    {
     "data": {
      "text/plain": [
       "[[1, 4], [5, 8], [6, 2]]"
      ]
     },
     "execution_count": 3,
     "metadata": {},
     "output_type": "execute_result"
    }
   ],
   "source": [
    "a = [[1,5,6],[4,8,2]]\n",
    "transpose_fun(a)"
   ]
  },
  {
   "cell_type": "code",
   "execution_count": 4,
   "id": "649fb618",
   "metadata": {},
   "outputs": [
    {
     "data": {
      "text/plain": [
       "array([[1, 4],\n",
       "       [5, 8],\n",
       "       [6, 2]])"
      ]
     },
     "execution_count": 4,
     "metadata": {},
     "output_type": "execute_result"
    }
   ],
   "source": [
    "np.array(a).transpose()"
   ]
  },
  {
   "cell_type": "code",
   "execution_count": null,
   "id": "9feb9d76",
   "metadata": {},
   "outputs": [],
   "source": []
  }
 ],
 "metadata": {
  "kernelspec": {
   "display_name": "Python [conda env:base] *",
   "language": "python",
   "name": "conda-base-py"
  },
  "language_info": {
   "codemirror_mode": {
    "name": "ipython",
    "version": 3
   },
   "file_extension": ".py",
   "mimetype": "text/x-python",
   "name": "python",
   "nbconvert_exporter": "python",
   "pygments_lexer": "ipython3",
   "version": "3.13.5"
  }
 },
 "nbformat": 4,
 "nbformat_minor": 5
}
